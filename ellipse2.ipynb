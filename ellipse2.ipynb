{
 "metadata": {
  "language_info": {
   "codemirror_mode": {
    "name": "ipython",
    "version": 3
   },
   "file_extension": ".py",
   "mimetype": "text/x-python",
   "name": "python",
   "nbconvert_exporter": "python",
   "pygments_lexer": "ipython3",
   "version": "3.7.9-final"
  },
  "orig_nbformat": 2,
  "kernelspec": {
   "name": "python3",
   "display_name": "Python 3.7.9 64-bit",
   "metadata": {
    "interpreter": {
     "hash": "1cfab0c68b37bd44850398e807e07ae368ba654a5b67120d26dc2f82174f953f"
    }
   }
  }
 },
 "nbformat": 4,
 "nbformat_minor": 2,
 "cells": [
  {
   "cell_type": "code",
   "execution_count": 2,
   "metadata": {},
   "outputs": [],
   "source": [
    "import numpy as np\n",
    "from scipy.stats import norm, chi2\n",
    "import matplotlib.pyplot as plt\n",
    "from matplotlib.patches import Ellipse\n"
   ]
  },
  {
   "cell_type": "code",
   "execution_count": null,
   "metadata": {},
   "outputs": [],
   "source": [
    "def cov_ellipse(points, cov, nstd):\n",
    "    vals, vecs = eigsorted(cov)\n",
    "    theta = np.degrees(np.arctan2(*vecs[:, 0][::-1]))\n",
    "\n",
    "    # Width and height are \"full\" widths, not radius\n",
    "    width, height = 2 * nstd * np.sqrt(vals)\n",
    "\n",
    "    return width, height, theta"
   ]
  },
  {
   "cell_type": "code",
   "execution_count": null,
   "metadata": {},
   "outputs": [],
   "source": [
    "cov = np.random.uniform(0., 10., (2, 2))\n",
    "\n",
    "points = np.random.multivariate_normal(mean=(0, 0), cov=cov, size=1000)\n",
    "\n",
    "cov = np.cov(points, rowvar=False)\n",
    "\n",
    "mean_pos = points.mean(axis=0)\n",
    "\n",
    "width1, height1, theta1 = cov_ellipse(points, cov, nstd)"
   ]
  },
  {
   "cell_type": "code",
   "execution_count": null,
   "metadata": {},
   "outputs": [],
   "source": [
    "x, y = points.T\n",
    "ax = plt.gca()\n",
    "plt.scatter(x, y, c='k', s=1, alpha=.5)\n",
    "ellipse1 = Ellipse(xy=mean_pos, width=width1, height=height1, angle=theta1,\n",
    "                    edgecolor='b', fc='None', lw=2, zorder=4)\n",
    "ax.add_patch(ellipse1)\n",
    "plt.show()"
   ]
  }
 ]
}